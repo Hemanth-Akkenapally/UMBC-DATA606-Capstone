{
  "cells": [
    {
      "cell_type": "markdown",
      "metadata": {
        "id": "s8EbVQb908Ai"
      },
      "source": [
        "# **Automatic License Number Plate Recognition**\n",
        "* ANPR is a vehicle number plate recognition where we use object detection using YOLOv4.\n",
        "* Dataset is scrapped from open image dataset: \"https://storage.googleapis.com/openimages/web/visualizer/index.html?type=detection&set=train&c=%2Fm%2F01jfm_\"\n",
        "* Dataset contains Train, Validation, and Test Images along with annotations.\n",
        "Each image is scrapped with an image file and a CSV which contains the annotations of the location of the plate.\n",
        "* Train dataset contains: 1500 images (total 1500 images + 1500 annotated entries in a CSV file)\n",
        "* Validation dataset contains: 300 images (total 300 images + 300 annotated entries in a CSV file)\n",
        "* Test dataset contains 300 images (total 300 images + 300 annotated entries in a CSV file)"
      ]
    },
    {
      "cell_type": "markdown",
      "metadata": {
        "id": "NvvHIHg2AMii"
      },
      "source": [
        "## Further steps:\n",
        "* Data is being fetched using web scrapping from open image dataset along with its annotations.\n",
        "* Dataset  will be pre-processed such that it will support for custom modified YOLOv4 algorithm.\n",
        "* pre-processing steps:\n",
        "  1. Combine images and labels files such that both of them have the same file names\n",
        "  2. make a unified text file to support the yolov4 algorithm.\n",
        "Reference: chrome-extension://efaidnbmnnnibpcajpcglclefindmkaj/https://arxiv.org/pdf/2004.10934.pdf?"
      ]
    },
    {
      "cell_type": "code",
      "execution_count": 1,
      "metadata": {
        "id": "PjonmdP5AUS0"
      },
      "outputs": [
        {
          "name": "stdout",
          "output_type": "stream",
          "text": [
            "Requirement already satisfied: pandas in c:\\users\\akken\\anaconda3\\lib\\site-packages (2.1.4)\n",
            "Requirement already satisfied: numpy<2,>=1.23.2 in c:\\users\\akken\\anaconda3\\lib\\site-packages (from pandas) (1.26.3)\n",
            "Requirement already satisfied: python-dateutil>=2.8.2 in c:\\users\\akken\\anaconda3\\lib\\site-packages (from pandas) (2.8.2)\n",
            "Requirement already satisfied: pytz>=2020.1 in c:\\users\\akken\\anaconda3\\lib\\site-packages (from pandas) (2023.3.post1)\n",
            "Requirement already satisfied: tzdata>=2022.1 in c:\\users\\akken\\anaconda3\\lib\\site-packages (from pandas) (2023.3)\n",
            "Requirement already satisfied: six>=1.5 in c:\\users\\akken\\anaconda3\\lib\\site-packages (from python-dateutil>=2.8.2->pandas) (1.16.0)\n",
            "Note: you may need to restart the kernel to use updated packages.\n"
          ]
        }
      ],
      "source": [
        "%pip install pandas"
      ]
    },
    {
      "cell_type": "code",
      "execution_count": 1,
      "metadata": {},
      "outputs": [
        {
          "data": {
            "text/plain": [
              "'c:\\\\Users\\\\akken\\\\Desktop\\\\ANPR'"
            ]
          },
          "execution_count": 1,
          "metadata": {},
          "output_type": "execute_result"
        }
      ],
      "source": [
        "%pwd"
      ]
    },
    {
      "cell_type": "code",
      "execution_count": 2,
      "metadata": {},
      "outputs": [
        {
          "name": "stdout",
          "output_type": "stream",
          "text": [
            "c:\\Users\\akken\\Desktop\\ANPR\\OID_data\\Dataset\\train\n"
          ]
        }
      ],
      "source": [
        "%cd OID_data/Dataset/train/"
      ]
    },
    {
      "cell_type": "code",
      "execution_count": 27,
      "metadata": {},
      "outputs": [
        {
          "name": "stdout",
          "output_type": "stream",
          "text": [
            "Image paths for train set have been saved to: C:/Users/akken/Desktop/ANPR/OID_data/Dataset/train.txt\n"
          ]
        }
      ],
      "source": [
        "import os\n",
        "\n",
        "# Defining the root folder containing the dataset\n",
        "root_folder1 = 'C:/Users/akken/Desktop/ANPR/OID_data/Dataset/train/'\n",
        "root_folder2 = 'C:/Users/akken/Desktop/ANPR/OID_data/Dataset/test/'\n",
        "root_folder3 = 'C:/Users/akken/Desktop/ANPR/OID_data/Dataset/validation/'\n",
        "\n",
        "# path to the train folder\n",
        "train_folder = os.path.join(root_folder1, 'Vehicle_registration_plate')\n",
        "test_folder = os.path.join(root_folder2, 'Vehicle_registration_plate')\n",
        "valid_folder = os.path.join(root_folder3, 'Vehicle_registration_plate')\n",
        "\n",
        "# path to the output text file\n",
        "output_train = 'C:/Users/akken/Desktop/ANPR/OID_data/Dataset/train.txt'\n",
        "output_test = 'C:/Users/akken/Desktop/ANPR/OID_data/Dataset/test.txt'\n",
        "output_valid = 'C:/Users/akken/Desktop/ANPR/OID_data/Dataset/valid.txt'\n",
        "\n",
        "# Function to write image paths to a text file\n",
        "def write_image_paths(image_folder, file):\n",
        "    with open(file, 'w') as f:\n",
        "        # Iterating through the images in the train folder\n",
        "        for filename in os.listdir(image_folder):\n",
        "            if filename.endswith('.jpg'):  # Check if file is a .jpg image\n",
        "                image_path = os.path.join(image_folder, filename)\n",
        "                # Replacing backslashes with forward slashes in the path\n",
        "                image_path = image_path.replace('\\\\', '/')\n",
        "                f.write(f\"{image_path}\\n\")\n",
        "\n",
        "# Writing image paths to the output text file for the train folder\n",
        "write_image_paths(train_folder, output_train)\n",
        "write_image_paths(test_folder, output_test)\n",
        "write_image_paths(valid_folder, output_valid)\n",
        "\n",
        "print(\"Image paths for train set have been saved to:\", output_file_path)\n"
      ]
    },
    {
      "cell_type": "code",
      "execution_count": null,
      "metadata": {},
      "outputs": [],
      "source": []
    }
  ],
  "metadata": {
    "colab": {
      "provenance": []
    },
    "kernelspec": {
      "display_name": "Python 3",
      "name": "python3"
    },
    "language_info": {
      "codemirror_mode": {
        "name": "ipython",
        "version": 3
      },
      "file_extension": ".py",
      "mimetype": "text/x-python",
      "name": "python",
      "nbconvert_exporter": "python",
      "pygments_lexer": "ipython3",
      "version": "3.11.5"
    }
  },
  "nbformat": 4,
  "nbformat_minor": 0
}
